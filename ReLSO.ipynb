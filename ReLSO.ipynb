{
  "nbformat": 4,
  "nbformat_minor": 0,
  "metadata": {
    "colab": {
      "provenance": [],
      "authorship_tag": "ABX9TyP1mhqDyQLdqxZa9SYiRp66",
      "include_colab_link": true
    },
    "kernelspec": {
      "name": "python3",
      "display_name": "Python 3"
    },
    "language_info": {
      "name": "python"
    }
  },
  "cells": [
    {
      "cell_type": "markdown",
      "metadata": {
        "id": "view-in-github",
        "colab_type": "text"
      },
      "source": [
        "<a href=\"https://colab.research.google.com/github/Xinchunran/paper_review/blob/main/ReLSO.ipynb\" target=\"_parent\"><img src=\"https://colab.research.google.com/assets/colab-badge.svg\" alt=\"Open In Colab\"/></a>"
      ]
    },
    {
      "cell_type": "code",
      "execution_count": 4,
      "metadata": {
        "colab": {
          "base_uri": "https://localhost:8080/"
        },
        "id": "zqjR2LeKVg_7",
        "outputId": "fc82f623-d26a-407e-eb05-389a44f6a6e2"
      },
      "outputs": [
        {
          "output_type": "stream",
          "name": "stdout",
          "text": [
            "Looking in indexes: https://pypi.org/simple, https://us-python.pkg.dev/colab-wheels/public/simple/\n",
            "Requirement already satisfied: scikit-learn in /usr/local/lib/python3.7/dist-packages (1.0.2)\n",
            "Requirement already satisfied: wandb in /usr/local/lib/python3.7/dist-packages (0.13.4)\n",
            "Requirement already satisfied: numpy in /usr/local/lib/python3.7/dist-packages (1.21.6)\n",
            "Requirement already satisfied: scipy>=1.1.0 in /usr/local/lib/python3.7/dist-packages (from scikit-learn) (1.7.3)\n",
            "Requirement already satisfied: joblib>=0.11 in /usr/local/lib/python3.7/dist-packages (from scikit-learn) (1.2.0)\n",
            "Requirement already satisfied: threadpoolctl>=2.0.0 in /usr/local/lib/python3.7/dist-packages (from scikit-learn) (3.1.0)\n",
            "Requirement already satisfied: psutil>=5.0.0 in /usr/local/lib/python3.7/dist-packages (from wandb) (5.4.8)\n",
            "Requirement already satisfied: GitPython>=1.0.0 in /usr/local/lib/python3.7/dist-packages (from wandb) (3.1.29)\n",
            "Requirement already satisfied: sentry-sdk>=1.0.0 in /usr/local/lib/python3.7/dist-packages (from wandb) (1.9.0)\n",
            "Requirement already satisfied: requests<3,>=2.0.0 in /usr/local/lib/python3.7/dist-packages (from wandb) (2.23.0)\n",
            "Requirement already satisfied: protobuf!=4.0.*,!=4.21.0,<5,>=3.12.0 in /usr/local/lib/python3.7/dist-packages (from wandb) (3.17.3)\n",
            "Requirement already satisfied: PyYAML in /usr/local/lib/python3.7/dist-packages (from wandb) (6.0)\n",
            "Requirement already satisfied: six>=1.13.0 in /usr/local/lib/python3.7/dist-packages (from wandb) (1.15.0)\n",
            "Requirement already satisfied: promise<3,>=2.0 in /usr/local/lib/python3.7/dist-packages (from wandb) (2.3)\n",
            "Requirement already satisfied: setproctitle in /usr/local/lib/python3.7/dist-packages (from wandb) (1.3.2)\n",
            "Requirement already satisfied: setuptools in /usr/local/lib/python3.7/dist-packages (from wandb) (57.4.0)\n",
            "Requirement already satisfied: Click!=8.0.0,>=7.0 in /usr/local/lib/python3.7/dist-packages (from wandb) (7.1.2)\n",
            "Requirement already satisfied: pathtools in /usr/local/lib/python3.7/dist-packages (from wandb) (0.1.2)\n",
            "Requirement already satisfied: docker-pycreds>=0.4.0 in /usr/local/lib/python3.7/dist-packages (from wandb) (0.4.0)\n",
            "Requirement already satisfied: shortuuid>=0.5.0 in /usr/local/lib/python3.7/dist-packages (from wandb) (1.0.9)\n",
            "Requirement already satisfied: typing-extensions>=3.7.4.3 in /usr/local/lib/python3.7/dist-packages (from GitPython>=1.0.0->wandb) (4.1.1)\n",
            "Requirement already satisfied: gitdb<5,>=4.0.1 in /usr/local/lib/python3.7/dist-packages (from GitPython>=1.0.0->wandb) (4.0.9)\n",
            "Requirement already satisfied: smmap<6,>=3.0.1 in /usr/local/lib/python3.7/dist-packages (from gitdb<5,>=4.0.1->GitPython>=1.0.0->wandb) (5.0.0)\n",
            "Requirement already satisfied: idna<3,>=2.5 in /usr/local/lib/python3.7/dist-packages (from requests<3,>=2.0.0->wandb) (2.10)\n",
            "Requirement already satisfied: certifi>=2017.4.17 in /usr/local/lib/python3.7/dist-packages (from requests<3,>=2.0.0->wandb) (2022.9.24)\n",
            "Requirement already satisfied: urllib3!=1.25.0,!=1.25.1,<1.26,>=1.21.1 in /usr/local/lib/python3.7/dist-packages (from requests<3,>=2.0.0->wandb) (1.24.3)\n",
            "Requirement already satisfied: chardet<4,>=3.0.2 in /usr/local/lib/python3.7/dist-packages (from requests<3,>=2.0.0->wandb) (3.0.4)\n"
          ]
        }
      ],
      "source": [
        "!pip install scikit-learn wandb numpy"
      ]
    },
    {
      "cell_type": "code",
      "source": [
        " !pip install git+https://github.com/facebookresearch/esm.git\n",
        " !curl -O https://dl.fbaipublicfiles.com/fair-esm/examples/P62593_reprs.tar.gz\n",
        " !tar -xzf P62593_reprs.tar.gz\n",
        " !curl -O https://dl.fbaipublicfiles.com/fair-esm/examples/P62593.fasta\n",
        " !pwd\n",
        " !l"
      ],
      "metadata": {
        "colab": {
          "base_uri": "https://localhost:8080/"
        },
        "id": "P9KKUoi2XiWw",
        "outputId": "aa88a6be-e87b-4e53-92e7-8c03c3db17f5"
      },
      "execution_count": 1,
      "outputs": [
        {
          "output_type": "stream",
          "name": "stdout",
          "text": [
            "Looking in indexes: https://pypi.org/simple, https://us-python.pkg.dev/colab-wheels/public/simple/\n",
            "Collecting git+https://github.com/facebookresearch/esm.git\n",
            "  Cloning https://github.com/facebookresearch/esm.git to /tmp/pip-req-build-v_o9_n2a\n",
            "  Running command git clone -q https://github.com/facebookresearch/esm.git /tmp/pip-req-build-v_o9_n2a\n",
            "  Installing build dependencies ... \u001b[?25l\u001b[?25hdone\n",
            "  Getting requirements to build wheel ... \u001b[?25l\u001b[?25hdone\n",
            "    Preparing wheel metadata ... \u001b[?25l\u001b[?25hdone\n",
            "Building wheels for collected packages: fair-esm\n",
            "  Building wheel for fair-esm (PEP 517) ... \u001b[?25l\u001b[?25hdone\n",
            "  Created wheel for fair-esm: filename=fair_esm-2.0.0-py3-none-any.whl size=95419 sha256=1946e61b328d9dfb33a73fcecf0f7f63fa2859e72cfffeef1a19cc27fce4eeab\n",
            "  Stored in directory: /tmp/pip-ephem-wheel-cache-43_gag9e/wheels/5c/8e/11/307eca5379b418a9989ef4d24ead655755f2500a577ec95208\n",
            "Successfully built fair-esm\n",
            "Installing collected packages: fair-esm\n",
            "Successfully installed fair-esm-2.0.0\n",
            "  % Total    % Received % Xferd  Average Speed   Time    Time     Time  Current\n",
            "                                 Dload  Upload   Total   Spent    Left  Speed\n",
            "100 24.5M  100 24.5M    0     0  14.6M      0  0:00:01  0:00:01 --:--:-- 14.6M\n",
            "  % Total    % Received % Xferd  Average Speed   Time    Time     Time  Current\n",
            "                                 Dload  Upload   Total   Spent    Left  Speed\n",
            "100 1719k  100 1719k    0     0  1810k      0 --:--:-- --:--:-- --:--:-- 1808k\n",
            "/content\n",
            "/bin/bash: l: command not found\n"
          ]
        }
      ]
    },
    {
      "cell_type": "code",
      "source": [
        "import random\n",
        "from collections import Counter\n",
        "from tqdm import tqdm\n",
        "\n",
        "import torch\n",
        "import matplotlib.pyplot as plt\n",
        "import numpy as np\n",
        "import pandas as pd\n",
        "import seaborn as sns\n",
        "import esm\n",
        "import scipy\n",
        "from sklearn.model_selection import GridSearchCV, train_test_split\n",
        "from sklearn.decomposition import PCA\n",
        "from sklearn.neighbors import KNeighborsClassifier, KNeighborsRegressor\n",
        "from sklearn.svm import SVC, SVR\n",
        "from sklearn.ensemble import RandomForestClassifier, RandomForestRegressor\n",
        "from sklearn.naive_bayes import GaussianNB\n",
        "from sklearn.linear_model import LogisticRegression, SGDRegressor\n",
        "from sklearn.pipeline import Pipeline"
      ],
      "metadata": {
        "id": "E-fFz6WGYEvw"
      },
      "execution_count": 6,
      "outputs": []
    },
    {
      "cell_type": "code",
      "source": [
        "FASTA_PATH = \"/content/P62593.fasta\" # Path to P62593.fasta\n",
        "EMB_PATH = \"/content/P62593_reprs/\" # Path to directory of embeddings for P62593.fasta\n",
        "EMB_LAYER = 34\n"
      ],
      "metadata": {
        "id": "xua2Mhxievah"
      },
      "execution_count": 7,
      "outputs": []
    },
    {
      "cell_type": "code",
      "source": [
        "ys = []\n",
        "Xs = []\n",
        "for header, _seq in esm.data.read_fasta(FASTA_PATH):\n",
        "    scaled_effect = header.split('|')[-1]\n",
        "    ys.append(float(scaled_effect))\n",
        "    fn = f'{EMB_PATH}{header[0:]}.pt'\n",
        "    embs = torch.load(fn)\n",
        "    Xs.append(embs['mean_representations'][EMB_LAYER])\n",
        "Xs = torch.stack(Xs, dim=0).numpy()\n",
        "print(len(ys))\n",
        "print(Xs.shape)"
      ],
      "metadata": {
        "colab": {
          "base_uri": "https://localhost:8080/"
        },
        "id": "cTn1pCmPgju5",
        "outputId": "7eb46e86-d9d4-49d9-e5af-456dfcfcd2b3"
      },
      "execution_count": 8,
      "outputs": [
        {
          "output_type": "stream",
          "name": "stdout",
          "text": [
            "5397\n",
            "(5397, 1280)\n"
          ]
        }
      ]
    },
    {
      "cell_type": "code",
      "source": [
        "train_size = 0.8\n",
        "Xs_train, Xs_test, ys_train, ys_test = train_test_split(Xs, ys, train_size=train_size, random_state=42)"
      ],
      "metadata": {
        "id": "3aX_BK_tgqZf"
      },
      "execution_count": 11,
      "outputs": []
    },
    {
      "cell_type": "code",
      "source": [
        "Xs_train.shape, Xs_test.shape, len(ys_train), len(ys_test)"
      ],
      "metadata": {
        "colab": {
          "base_uri": "https://localhost:8080/"
        },
        "id": "0qMLEg7DgtwJ",
        "outputId": "3ed05cbd-1730-4781-c548-f84aa26b0771"
      },
      "execution_count": 12,
      "outputs": [
        {
          "output_type": "execute_result",
          "data": {
            "text/plain": [
              "((4317, 1280), (1080, 1280), 4317, 1080)"
            ]
          },
          "metadata": {},
          "execution_count": 12
        }
      ]
    },
    {
      "cell_type": "code",
      "source": [
        "num_pca_components = 60\n",
        "pca = PCA(num_pca_components)\n",
        "Xs_train_pca = pca.fit_transform(Xs_train)"
      ],
      "metadata": {
        "id": "VPna97obg2xx"
      },
      "execution_count": 13,
      "outputs": []
    },
    {
      "cell_type": "code",
      "source": [
        "fig_dims = (7, 6)\n",
        "fig, ax = plt.subplots(figsize=fig_dims)\n",
        "sc = ax.scatter(Xs_train_pca[:,0], Xs_train_pca[:,1], c=ys_train, marker='.')\n",
        "ax.set_xlabel('PCA first principal component')\n",
        "ax.set_ylabel('PCA second principal component')\n",
        "plt.colorbar(sc, label='Variant Effect')"
      ],
      "metadata": {
        "colab": {
          "base_uri": "https://localhost:8080/",
          "height": 405
        },
        "id": "p9q0TDX-g5ls",
        "outputId": "07d61d28-858f-46b8-ab92-125476db81f2"
      },
      "execution_count": 14,
      "outputs": [
        {
          "output_type": "execute_result",
          "data": {
            "text/plain": [
              "<matplotlib.colorbar.Colorbar at 0x7f5e70a4b110>"
            ]
          },
          "metadata": {},
          "execution_count": 14
        },
        {
          "output_type": "display_data",
          "data": {
            "text/plain": [
              "<Figure size 504x432 with 2 Axes>"
            ],
            "image/png": "[encoded data removed]"
          },
          "metadata": {
            "needs_background": "light"
          }
        }
      ]
    },
    {
      "cell_type": "code",
      "source": [
        "knn_grid = [\n",
        "    {\n",
        "        'model': [KNeighborsRegressor()],\n",
        "        'model__n_neighbors': [5, 10],\n",
        "        'model__weights': ['uniform', 'distance'],\n",
        "        'model__algorithm': ['ball_tree', 'kd_tree', 'brute'],\n",
        "        'model__leaf_size' : [15, 30],\n",
        "        'model__p' : [1, 2],\n",
        "    }\n",
        "    ]\n",
        "\n",
        "svm_grid = [\n",
        "    {\n",
        "        'model': [SVR()],\n",
        "        'model__C' : [0.1, 1.0, 10.0],\n",
        "        'model__kernel' : ['linear', 'poly', 'rbf', 'sigmoid'],\n",
        "        'model__degree' : [3],\n",
        "        'model__gamma': ['scale'],\n",
        "    }\n",
        "]\n",
        "\n",
        "rfr_grid = [\n",
        "    {\n",
        "        'model': [RandomForestRegressor()],\n",
        "        'model__n_estimators' : [20],\n",
        "        'model__criterion' : ['squared_error', 'absolute_error'],\n",
        "        'model__max_features': ['sqrt', 'log2'],\n",
        "        'model__min_samples_split' : [5, 10],\n",
        "        'model__min_samples_leaf': [1, 4]\n",
        "    }\n",
        "]"
      ],
      "metadata": {
        "id": "zUOHWEgug-Z5"
      },
      "execution_count": 15,
      "outputs": []
    },
    {
      "cell_type": "code",
      "source": [
        "cls_list = [KNeighborsRegressor, SVR, RandomForestRegressor]\n",
        "param_grid_list = [knn_grid, svm_grid, rfr_grid]"
      ],
      "metadata": {
        "id": "iFdlx4dChHhE"
      },
      "execution_count": 16,
      "outputs": []
    },
    {
      "cell_type": "code",
      "source": [
        "# make sure data preprocessing (PCA here) is run inside CV to avoid data leakage\n",
        "pipe = Pipeline(\n",
        "    steps = (\n",
        "        ('pca', PCA(num_pca_components)),\n",
        "        ('model', 'passthrough')\n",
        "    )\n",
        ")\n",
        "\n",
        "result_list = []\n",
        "grid_list = []\n",
        "for cls_name, param_grid in zip(cls_list, param_grid_list):\n",
        "    print(cls_name)\n",
        "    grid = GridSearchCV(\n",
        "        estimator = pipe,\n",
        "        param_grid = param_grid,\n",
        "        scoring = 'r2',\n",
        "        verbose = 1,\n",
        "        n_jobs = -1 # use all available cores\n",
        "    )\n",
        "    grid.fit(Xs_train, ys_train)\n",
        "    result_list.append(pd.DataFrame.from_dict(grid.cv_results_))\n",
        "    grid_list.append(grid)"
      ],
      "metadata": {
        "colab": {
          "base_uri": "https://localhost:8080/"
        },
        "id": "DaGHZzCyhJ_w",
        "outputId": "909e0758-80c3-4b45-8882-fb5027349e78"
      },
      "execution_count": null,
      "outputs": [
        {
          "output_type": "stream",
          "name": "stdout",
          "text": [
            "<class 'sklearn.neighbors._regression.KNeighborsRegressor'>\n",
            "Fitting 5 folds for each of 48 candidates, totalling 240 fits\n",
            "<class 'sklearn.svm._classes.SVR'>\n",
            "Fitting 5 folds for each of 12 candidates, totalling 60 fits\n",
            "<class 'sklearn.ensemble._forest.RandomForestRegressor'>\n",
            "Fitting 5 folds for each of 16 candidates, totalling 80 fits\n"
          ]
        }
      ]
    },
    {
      "cell_type": "code",
      "source": [
        "for grid in grid_list:\n",
        "    print(grid.best_estimator_.get_params()[\"steps\"][1][1]) # get the model details from the estimator\n",
        "    print()\n",
        "    preds = grid.predict(Xs_test)\n",
        "    print(f'{scipy.stats.spearmanr(ys_test, preds)}')\n",
        "    print('\\n', '-' * 80, '\\n')"
      ],
      "metadata": {
        "id": "aQDpQ2y6hNgv"
      },
      "execution_count": null,
      "outputs": []
    }
  ]
}